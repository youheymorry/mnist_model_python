{
  "nbformat": 4,
  "nbformat_minor": 0,
  "metadata": {
    "colab": {
      "provenance": [],
      "mount_file_id": "1LvWkSAUuwPA-bCt-REmytJlkygQOSEG_",
      "authorship_tag": "ABX9TyOvML/YW/1EduLEdPZ55lly",
      "include_colab_link": true
    },
    "kernelspec": {
      "name": "python3",
      "display_name": "Python 3"
    },
    "language_info": {
      "name": "python"
    }
  },
  "cells": [
    {
      "cell_type": "markdown",
      "metadata": {
        "id": "view-in-github",
        "colab_type": "text"
      },
      "source": [
        "<a href=\"https://colab.research.google.com/github/youheymorry/mnist_model_python/blob/main/mnist_js_model.ipynb\" target=\"_parent\"><img src=\"https://colab.research.google.com/assets/colab-badge.svg\" alt=\"Open In Colab\"/></a>"
      ]
    },
    {
      "cell_type": "code",
      "source": [
        "import numpy as np\n",
        "import tensorflow as tf\n",
        "from tensorflow.keras.models import Sequential\n",
        "from tensorflow.keras.layers import Conv2D, MaxPooling2D, Flatten, Dense\n",
        "from tensorflow.keras.datasets import mnist\n",
        "\n",
        "# データセットの準備\n",
        "(x_train, y_train), (x_test, y_test) = mnist.load_data()\n",
        "x_train = x_train[:, :, :, np.newaxis].astype(\"float32\") / 255.0  # (60000, 28, 28, 1)\n",
        "x_test = x_test[:, :, :, np.newaxis].astype(\"float32\") / 255.0    # (10000, 28, 28, 1)\n"
      ],
      "metadata": {
        "colab": {
          "base_uri": "https://localhost:8080/"
        },
        "id": "-SIX1qJ-ViAw",
        "outputId": "1718beba-a064-48e0-860e-190bae013674"
      },
      "execution_count": 2,
      "outputs": [
        {
          "output_type": "stream",
          "name": "stdout",
          "text": [
            "Downloading data from https://storage.googleapis.com/tensorflow/tf-keras-datasets/mnist.npz\n",
            "11493376/11490434 [==============================] - 0s 0us/step\n",
            "11501568/11490434 [==============================] - 0s 0us/step\n"
          ]
        }
      ]
    },
    {
      "cell_type": "code",
      "source": [
        "# モデルの準備\n",
        "model = Sequential([\n",
        "  Conv2D(32, kernel_size=(3, 3), activation=\"relu\", padding=\"same\", input_shape=(28, 28, 1)),\n",
        "  MaxPooling2D(pool_size=(2, 2)),\n",
        "  Conv2D(64, kernel_size=(3, 3), activation=\"relu\", padding=\"same\"),\n",
        "  MaxPooling2D(pool_size=(2, 2)),\n",
        "  Flatten(),\n",
        "  Dense(128, activation=\"relu\"),\n",
        "  Dense(10, activation=\"softmax\")\n",
        "])\n",
        "model.compile(\"Adam\", loss=\"sparse_categorical_crossentropy\", metrics=\"sparse_categorical_accuracy\")\n",
        "# 学習\n",
        "model.fit(x_train, y_train, batch_size=256, epochs=10, validation_data=(x_test, y_test))"
      ],
      "metadata": {
        "colab": {
          "base_uri": "https://localhost:8080/"
        },
        "id": "GV4sCLcuVqvg",
        "outputId": "487671c7-c197-484e-d506-321a9fa7b1dd"
      },
      "execution_count": 3,
      "outputs": [
        {
          "output_type": "stream",
          "name": "stdout",
          "text": [
            "Epoch 1/10\n",
            "235/235 [==============================] - 43s 179ms/step - loss: 0.2789 - sparse_categorical_accuracy: 0.9211 - val_loss: 0.0685 - val_sparse_categorical_accuracy: 0.9783\n",
            "Epoch 2/10\n",
            "235/235 [==============================] - 42s 179ms/step - loss: 0.0634 - sparse_categorical_accuracy: 0.9809 - val_loss: 0.0421 - val_sparse_categorical_accuracy: 0.9864\n",
            "Epoch 3/10\n",
            "235/235 [==============================] - 42s 180ms/step - loss: 0.0439 - sparse_categorical_accuracy: 0.9866 - val_loss: 0.0396 - val_sparse_categorical_accuracy: 0.9869\n",
            "Epoch 4/10\n",
            "235/235 [==============================] - 43s 181ms/step - loss: 0.0336 - sparse_categorical_accuracy: 0.9892 - val_loss: 0.0305 - val_sparse_categorical_accuracy: 0.9891\n",
            "Epoch 5/10\n",
            "235/235 [==============================] - 44s 188ms/step - loss: 0.0270 - sparse_categorical_accuracy: 0.9916 - val_loss: 0.0367 - val_sparse_categorical_accuracy: 0.9874\n",
            "Epoch 6/10\n",
            "235/235 [==============================] - 42s 178ms/step - loss: 0.0219 - sparse_categorical_accuracy: 0.9932 - val_loss: 0.0271 - val_sparse_categorical_accuracy: 0.9903\n",
            "Epoch 7/10\n",
            "235/235 [==============================] - 42s 177ms/step - loss: 0.0177 - sparse_categorical_accuracy: 0.9947 - val_loss: 0.0346 - val_sparse_categorical_accuracy: 0.9896\n",
            "Epoch 8/10\n",
            "235/235 [==============================] - 42s 179ms/step - loss: 0.0144 - sparse_categorical_accuracy: 0.9953 - val_loss: 0.0262 - val_sparse_categorical_accuracy: 0.9916\n",
            "Epoch 9/10\n",
            "235/235 [==============================] - 42s 179ms/step - loss: 0.0114 - sparse_categorical_accuracy: 0.9968 - val_loss: 0.0314 - val_sparse_categorical_accuracy: 0.9886\n",
            "Epoch 10/10\n",
            "235/235 [==============================] - 43s 181ms/step - loss: 0.0105 - sparse_categorical_accuracy: 0.9967 - val_loss: 0.0253 - val_sparse_categorical_accuracy: 0.9915\n"
          ]
        },
        {
          "output_type": "execute_result",
          "data": {
            "text/plain": [
              "<keras.callbacks.History at 0x7fc0e21eb790>"
            ]
          },
          "metadata": {},
          "execution_count": 3
        }
      ]
    },
    {
      "cell_type": "code",
      "source": [
        "import tensorflowjs as tfjs\n",
        "tfjs.converters.save_keras_model(model, \"./tfjs_model\")"
      ],
      "metadata": {
        "id": "0Uwj1lB4Vt7f"
      },
      "execution_count": 4,
      "outputs": []
    },
    {
      "cell_type": "code",
      "source": [
        "!cp -r ./tfjs_model ./drive/MyDrive"
      ],
      "metadata": {
        "id": "36DjcPOCYMYx"
      },
      "execution_count": 9,
      "outputs": []
    }
  ]
}